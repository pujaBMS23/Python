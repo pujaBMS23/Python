{
 "cells": [
  {
   "cell_type": "code",
   "execution_count": 1,
   "id": "21df831a",
   "metadata": {},
   "outputs": [
    {
     "name": "stdout",
     "output_type": "stream",
     "text": [
      "hello world\n"
     ]
    }
   ],
   "source": [
    "print('hello world')"
   ]
  },
  {
   "cell_type": "code",
   "execution_count": null,
   "id": "cf48400c",
   "metadata": {},
   "outputs": [],
   "source": []
  },
  {
   "cell_type": "markdown",
   "id": "9960d681",
   "metadata": {},
   "source": [
    "# 1. Simple text\n",
    "this is a text \n",
    "# 2. list\n",
    "## 2.1. Unordedred list\n",
    "the following is a unordered list\n",
    "* item 1\n",
    "    * item 1.1\n",
    "* item 2\n",
    "    * item 2.1\n",
    "* item 3\n",
    "    * item 3.1\n",
    "## 2.2. ordered list\n",
    "the following is an ordered list\n",
    "1. item 1\n",
    "    1. item 1.1\n",
    "2. item 2\n",
    "    1. item 2.1\n",
    "3. item 3\n",
    "    1. item 3.1\n",
    "# 3. LATEX formula \n",
    "1. $(a+b)^2 = a^2 + 2ab + b^2$\n",
    "2. $m_1v_1 = m_2v_2$\n",
    "3. $t_{arrival} = t_{start} + t_{transit}$\n",
    "5. $A = \\{a_1, a_2, a_3\\}$\n",
    "6. $F=G\\frac{m_1m_2}{r^2}$\n",
    "7. $S_t = Asin(\\omega t + \\phi)$\n",
    "\n",
    "# 4. Table\n",
    "| A | B | C | \n",
    "|--|--|--|\n",
    "|$a_1$|b1|c1|\n",
    "|a2|b2|c2|\n",
    "|a3|b3|c3|\n",
    "|a4|b4|c4|\n",
    "\n",
    "# Advanced Formula\n",
    "$\\begin{pmatrix}\n",
    "1 & 2 & 3\\\\\n",
    "a & b & c\n",
    "\\end{pmatrix}$"
   ]
  },
  {
   "cell_type": "code",
   "execution_count": 1,
   "id": "e8e5f306",
   "metadata": {},
   "outputs": [
    {
     "name": "stdout",
     "output_type": "stream",
     "text": [
      "hello\n"
     ]
    }
   ],
   "source": [
    "print('hello')"
   ]
  },
  {
   "cell_type": "code",
   "execution_count": null,
   "id": "846bce07",
   "metadata": {},
   "outputs": [],
   "source": []
  }
 ],
 "metadata": {
  "kernelspec": {
   "display_name": "Python 3 (ipykernel)",
   "language": "python",
   "name": "python3"
  },
  "language_info": {
   "codemirror_mode": {
    "name": "ipython",
    "version": 3
   },
   "file_extension": ".py",
   "mimetype": "text/x-python",
   "name": "python",
   "nbconvert_exporter": "python",
   "pygments_lexer": "ipython3",
   "version": "3.11.5"
  }
 },
 "nbformat": 4,
 "nbformat_minor": 5
}
